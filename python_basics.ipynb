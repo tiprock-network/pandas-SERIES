{
 "cells": [
  {
   "cell_type": "markdown",
   "metadata": {},
   "source": [
    "# Welcome to the Python Basics Notebook\n",
    "😊 In this session you will learn a tinny bit of Python just to get you started. We know learning a new langauge can be overwhelming sometimes that's why we decided to start slow for anyone trying out Python for the first time."
   ]
  },
  {
   "cell_type": "markdown",
   "metadata": {},
   "source": [
    "### 1.0 Variables\n",
    "Computers store a type of data shortly in memory using what we call </b>variables</b>. They can change (vary/tentative) hence the term variables. In this case you will be introduced to 4 major types that we have."
   ]
  },
  {
   "cell_type": "markdown",
   "metadata": {},
   "source": [
    "### 3 major data types objects we have in Python\n",
    "They are:\n",
    "* Float e.g. 0.14327, -0.455\n",
    "* Boolean e.g. True, False -> (1,0)\n",
    "* Strings e.g. \"I am learning Python!\"\n",
    "* Int e.g. 12, -34"
   ]
  },
  {
   "cell_type": "markdown",
   "metadata": {},
   "source": [
    "Below are examples of these types of data and how to use them. Observe when you want to see results in a computer console/terminal you will have to use the function <b>print(*<u>what to print</u>*)</b>\n",
    "You do not have to specify the type of data you are using the compiler will automatically figure it out by itself, for example, follow the examples and type different data e.g."
   ]
  },
  {
   "cell_type": "code",
   "execution_count": 2,
   "metadata": {},
   "outputs": [
    {
     "name": "stdout",
     "output_type": "stream",
     "text": [
      "John\n",
      "John Jane\n"
     ]
    }
   ],
   "source": [
    "#this data is what we call a string\n",
    "myName = 'John'\n",
    "print(myName)\n",
    "\n",
    "#now let us add a second Name\n",
    "myWife = 'Jane' #add a name\n",
    "\n",
    "#put the couple together\n",
    "together = myName + ' '+ myWife #think of adding ' ' as a way of formatting our sentence \n",
    "#you can decide to use '+' instead of ' ' which is a space or ' and '\n",
    "\n",
    "#See how the couple is now called\n",
    "print(together)"
   ]
  },
  {
   "cell_type": "markdown",
   "metadata": {},
   "source": [
    "Now note that when we use # we are commenting the code so that the compiler cannot run that line, it is to help us understand what we are writing, while the use if a plus(+) and '' means that we are combining sentences e.g. 'John' + ' ' + 'Jane' OR 'John' + 'and' + 'Jane'. Observe this example, try to complete it yourself."
   ]
  },
  {
   "cell_type": "markdown",
   "metadata": {},
   "source": [
    "1. Print a sentence saying - Mary is Jane and Jane is married to John"
   ]
  },
  {
   "cell_type": "code",
   "execution_count": null,
   "metadata": {},
   "outputs": [],
   "source": [
    "sentence1 = \"Mary is Jane\"\n",
    "sentence2 = \"Jane is married to John\"\n",
    "\n",
    "#change the code here\n",
    "sentence3 = \n",
    "print()"
   ]
  },
  {
   "cell_type": "markdown",
   "metadata": {},
   "source": [
    "Working with numbers"
   ]
  },
  {
   "cell_type": "code",
   "execution_count": null,
   "metadata": {},
   "outputs": [],
   "source": [
    "myFloat = 1.432\n",
    "myInt = 14\n",
    " \n",
    " #ADD\n",
    "result1 = myFloat + myInt\n",
    "\n",
    "#SUBTRACT\n",
    "result2 = myInt - myFloat\n",
    "\n",
    "#DIVIDE\n",
    "result3 = myInt/myFloat\n",
    "\n",
    "#MULTIPY\n",
    "result4 = myFloat * myInt\n"
   ]
  },
  {
   "cell_type": "markdown",
   "metadata": {},
   "source": [
    "Now print the above results"
   ]
  },
  {
   "cell_type": "code",
   "execution_count": null,
   "metadata": {},
   "outputs": [],
   "source": [
    "#write your code here"
   ]
  },
  {
   "cell_type": "markdown",
   "metadata": {},
   "source": [
    "Did you notice they are all decimal numbers called floats. Awesome if you achieved this! Now try formatting them to have only 2 decimal places."
   ]
  },
  {
   "cell_type": "markdown",
   "metadata": {},
   "source": [
    "An example is given trying copying the example."
   ]
  },
  {
   "cell_type": "code",
   "execution_count": 4,
   "metadata": {},
   "outputs": [
    {
     "name": "stdout",
     "output_type": "stream",
     "text": [
      "1.557881773399015\n",
      "Result = 1.56\n"
     ]
    }
   ],
   "source": [
    "#a new way of concatenation is introduced\n",
    "res = 12.65/8.12\n",
    "print(res)\n",
    "print(f\"Result = {res:.2f}\")"
   ]
  },
  {
   "cell_type": "markdown",
   "metadata": {},
   "source": [
    "### 2.0 Welcome to Control Structures\n",
    "In life we have to control somethings in order to maintain logic. Therefore in programming you must use Control structures to specify the flow of the data."
   ]
  },
  {
   "cell_type": "markdown",
   "metadata": {},
   "source": [
    "We are going to look at my 2 most popularly used control structure and that is Conditional - IF-THEN, IF-THEN-ELSE and Looping - FOR LOOP"
   ]
  },
  {
   "cell_type": "code",
   "execution_count": 8,
   "metadata": {},
   "outputs": [
    {
     "name": "stdout",
     "output_type": "stream",
     "text": [
      "4.6\n",
      "<class 'int'>\n"
     ]
    }
   ],
   "source": [
    "#IF-THEN\n",
    "a = 1\n",
    "b = 4.6\n",
    "\n",
    "#check if a is greater than b\n",
    "if a>b:\n",
    "    print('a is greater than b')\n",
    "\n",
    "#IF-ELSE\n",
    "#check if a is greater than b and if not then print b\n",
    "if a>b:\n",
    "    print('a is greater than b')\n",
    "else:\n",
    "    print(b)\n",
    "\n",
    "#IF-THEN-ELSE\n",
    "#check if b is a float and if it is then print a other wise check for the same in a and if all failed give your own output\n",
    "#print(type(a))\n",
    "if(type(a) == float):\n",
    "    print(a)\n",
    "elif type(a) == float:\n",
    "    print(b)\n",
    "else:\n",
    "    print('')"
   ]
  },
  {
   "cell_type": "code",
   "execution_count": null,
   "metadata": {},
   "outputs": [],
   "source": [
    "#FOR LOOP\n",
    "#(A) For loop with counter\n",
    "for i in range(5):\n",
    "    print(f\"Number: {i}\")"
   ]
  },
  {
   "cell_type": "code",
   "execution_count": null,
   "metadata": {},
   "outputs": [],
   "source": [
    "#(B) For-each loop\n",
    "for element in [4,5,'Amy','John','Angela']:\n",
    "    print(element)"
   ]
  },
  {
   "cell_type": "code",
   "execution_count": 10,
   "metadata": {},
   "outputs": [
    {
     "name": "stdout",
     "output_type": "stream",
     "text": [
      "The apple fruits are larger\n",
      "The pineapple fruits are smaller\n",
      "The peach fruits are medium-sized\n"
     ]
    }
   ],
   "source": [
    "#(C) Nested FOR-LOOP\n",
    "for fruit,size in zip(['apple','pineapple','peach'],['larger','smaller','medium-sized']):\n",
    "    print(f\"The {fruit} fruits are {size}\")"
   ]
  },
  {
   "cell_type": "markdown",
   "metadata": {},
   "source": [
    "### 3.0 Introducing you to Python Data Structures\n",
    "A data structure simply dictates how we structure our data. Mostly it is done for easy data access. For example we use what we call a list like a normal list in Python."
   ]
  },
  {
   "cell_type": "markdown",
   "metadata": {},
   "source": [
    "1. Lists\n",
    "* Lists are used to store multiple items in a single variable.\n",
    "* They are mutable\n",
    "* Different data objects can be stored in it\n",
    "* Have elements\n",
    "* Accessed using indexes"
   ]
  },
  {
   "cell_type": "code",
   "execution_count": 13,
   "metadata": {},
   "outputs": [],
   "source": [
    "#creating a list\n",
    "myList = [90,43,4,-6,9]\n",
    "myList2 = [\"Celcius\",3.56,-18,13243.554]"
   ]
  },
  {
   "cell_type": "code",
   "execution_count": 12,
   "metadata": {},
   "outputs": [
    {
     "name": "stdout",
     "output_type": "stream",
     "text": [
      "90\n",
      "3.56\n"
     ]
    }
   ],
   "source": [
    "#accessing a single item/element using an index\n",
    "#Numbering of indexes start from 0-N\n",
    "#first item\n",
    "print(myList[0])\n",
    "print(myList2[1])"
   ]
  },
  {
   "cell_type": "code",
   "execution_count": 14,
   "metadata": {},
   "outputs": [
    {
     "name": "stdout",
     "output_type": "stream",
     "text": [
      "['French', 43, 4, -6, 9]\n"
     ]
    }
   ],
   "source": [
    "#changing values at indexes - mutating\n",
    "#let us change item one in myList\n",
    "myList[0]=\"French\"\n",
    "print(myList)"
   ]
  },
  {
   "cell_type": "code",
   "execution_count": 16,
   "metadata": {},
   "outputs": [
    {
     "name": "stdout",
     "output_type": "stream",
     "text": [
      "Jer\n"
     ]
    }
   ],
   "source": [
    "#Slicing\n",
    "#I want the first three items therefore you have to slice doing this list[0:n+1]\n",
    "myString = \"Jeremy\"\n",
    "print(myString[0:3])#first three items\n"
   ]
  },
  {
   "cell_type": "code",
   "execution_count": null,
   "metadata": {},
   "outputs": [],
   "source": [
    "#print the first 5\n",
    "myNumbers = [2,4,6,8,5.44,8,9]\n"
   ]
  },
  {
   "cell_type": "code",
   "execution_count": 17,
   "metadata": {},
   "outputs": [
    {
     "data": {
      "text/plain": [
       "[2, 56, 853, 35, 7, 8, 5, 6, 83, 2]"
      ]
     },
     "execution_count": 17,
     "metadata": {},
     "output_type": "execute_result"
    }
   ],
   "source": [
    "#create one list using concatenation\n",
    "arr1 = [2,56,853,35,7,8]\n",
    "arr2 = [5,6,83,2]\n",
    "arr3 =                  #complete this line\n",
    "print(arr3)"
   ]
  },
  {
   "cell_type": "code",
   "execution_count": 22,
   "metadata": {},
   "outputs": [
    {
     "name": "stdout",
     "output_type": "stream",
     "text": [
      "8.6\n",
      "[True, False, 12, 8.6]\n"
     ]
    }
   ],
   "source": [
    "#getting the last item\n",
    "items_list = ['Melanin','Orange','Red','Yellow',67,1.34,123.45,True,False,12,8.6]\n",
    "print(items_list[-1])\n",
    "\n",
    "#printing from back\n",
    "print(items_list[-4:])"
   ]
  },
  {
   "cell_type": "markdown",
   "metadata": {},
   "source": [
    "Use a loop to change the non number values to numbers"
   ]
  },
  {
   "cell_type": "code",
   "execution_count": null,
   "metadata": {},
   "outputs": [],
   "source": [
    "#code goes here"
   ]
  },
  {
   "cell_type": "markdown",
   "metadata": {},
   "source": [
    "Splitting"
   ]
  },
  {
   "cell_type": "code",
   "execution_count": 23,
   "metadata": {},
   "outputs": [
    {
     "name": "stdout",
     "output_type": "stream",
     "text": [
      "['45', '32', '46', '90', 'are', \"Andrew's,\", \"Melissa's,\", \"John's\", \"Tylor's\", 'scores']\n",
      "[\"45 32 46 90 are Andrew's\", \" Melissa's\", \" John's Tylor's scores\"]\n"
     ]
    }
   ],
   "source": [
    "exercise_sentence = \"45 32 46 90 are Andrew\\'s, Melissa\\'s, John\\'s Tylor\\'s scores\"\n",
    "#turn the string to a list\n",
    "new_list = exercise_sentence.split() # splitting by space\n",
    "new_list2 = exercise_sentence.split(',') # splitting by ,\n",
    "print(new_list)\n",
    "print(new_list2)"
   ]
  },
  {
   "cell_type": "markdown",
   "metadata": {},
   "source": [
    "2. Dictionaries"
   ]
  },
  {
   "cell_type": "markdown",
   "metadata": {},
   "source": [
    "* Are a type of collection\n",
    "* Has pairs with keys and values\n",
    "* Keys are immutables and should not be the same\n",
    "* Values can be changed"
   ]
  },
  {
   "cell_type": "code",
   "execution_count": 26,
   "metadata": {},
   "outputs": [],
   "source": [
    "#creating a Dictrionary\n",
    "books = {\n",
    "    \"bkName\":'Quantum Programming',\n",
    "    \"bkCode\":4436,\n",
    "    \"bkGenre\":['Computer Science','Knowledge', 'Physics'],\n",
    "    \"bkRating\":4.6,\n",
    "    \"bkYear\":2004,\n",
    "    \"bkOwner\":\"Ahsley McGillen\"\n",
    "}"
   ]
  },
  {
   "cell_type": "code",
   "execution_count": 27,
   "metadata": {},
   "outputs": [
    {
     "name": "stdout",
     "output_type": "stream",
     "text": [
      "Quantum Programming\n"
     ]
    }
   ],
   "source": [
    "#the key is used to look up the value for example\n",
    "print(books[\"bkName\"])"
   ]
  },
  {
   "cell_type": "code",
   "execution_count": 28,
   "metadata": {},
   "outputs": [
    {
     "name": "stdout",
     "output_type": "stream",
     "text": [
      "{'bkName': 'Quantum Programming', 'bkCode': 4436, 'bkGenre': ['Computer Science', 'Knowledge', 'Physics'], 'bkRating': 4.6, 'bkYear': 2004, 'bkOwner': 'James Allan'}\n"
     ]
    }
   ],
   "source": [
    "#Oops! I put in the wrong author value, how do I change it\n",
    "books[\"bkOwner\"] = \"James Allan\"\n",
    "print(books)"
   ]
  },
  {
   "cell_type": "markdown",
   "metadata": {},
   "source": [
    "## Note:\n",
    "In pandas we usually use lists as data under different keys which ultimately rep. columns e.g. "
   ]
  },
  {
   "cell_type": "code",
   "execution_count": 30,
   "metadata": {},
   "outputs": [
    {
     "data": {
      "text/html": [
       "<div>\n",
       "<style scoped>\n",
       "    .dataframe tbody tr th:only-of-type {\n",
       "        vertical-align: middle;\n",
       "    }\n",
       "\n",
       "    .dataframe tbody tr th {\n",
       "        vertical-align: top;\n",
       "    }\n",
       "\n",
       "    .dataframe thead th {\n",
       "        text-align: right;\n",
       "    }\n",
       "</style>\n",
       "<table border=\"1\" class=\"dataframe\">\n",
       "  <thead>\n",
       "    <tr style=\"text-align: right;\">\n",
       "      <th></th>\n",
       "      <th>bkName</th>\n",
       "      <th>bkCode</th>\n",
       "      <th>bkGenre</th>\n",
       "      <th>bkRating</th>\n",
       "      <th>bkYear</th>\n",
       "      <th>bkOwner</th>\n",
       "      <th>bkReads</th>\n",
       "    </tr>\n",
       "  </thead>\n",
       "  <tbody>\n",
       "    <tr>\n",
       "      <th>0</th>\n",
       "      <td>Da Vinci Code</td>\n",
       "      <td>4436</td>\n",
       "      <td>Investigative</td>\n",
       "      <td>4.6</td>\n",
       "      <td>2004</td>\n",
       "      <td>James Langdon</td>\n",
       "      <td>123343554</td>\n",
       "    </tr>\n",
       "    <tr>\n",
       "      <th>1</th>\n",
       "      <td>Steve Jobs</td>\n",
       "      <td>2345</td>\n",
       "      <td>Autobiography</td>\n",
       "      <td>4.8</td>\n",
       "      <td>2011</td>\n",
       "      <td>Isaac Watson</td>\n",
       "      <td>5565343</td>\n",
       "    </tr>\n",
       "  </tbody>\n",
       "</table>\n",
       "</div>"
      ],
      "text/plain": [
       "          bkName  bkCode        bkGenre  bkRating  bkYear        bkOwner  \\\n",
       "0  Da Vinci Code    4436  Investigative       4.6    2004  James Langdon   \n",
       "1     Steve Jobs    2345  Autobiography       4.8    2011   Isaac Watson   \n",
       "\n",
       "     bkReads  \n",
       "0  123343554  \n",
       "1    5565343  "
      ]
     },
     "execution_count": 30,
     "metadata": {},
     "output_type": "execute_result"
    }
   ],
   "source": [
    "#creating a data frame in Pandas\n",
    "#bring in pandas and give it an alias such as pd\n",
    "import pandas as pd\n",
    "\n",
    "#create a dataframe using pandas\n",
    "books = {\n",
    "    \"bkName\":['Da Vinci Code', 'Steve Jobs', '3 Body Problem'],\n",
    "    \"bkCode\":[4436,2345,6787],\n",
    "    \"bkGenre\":['Investigative','Autobiography', 'Fiction'],\n",
    "    \"bkRating\":[4.6,4.8,4.3],\n",
    "    \"bkYear\":[2004,2011,2024],\n",
    "    \"bkOwner\":['James Langdon','Isaac Watson','Zack Snyder'],\n",
    "    \"bkReads\":[123343554,5565343,3455465656]\n",
    "}\n",
    "\n",
    "booksDataFrame = pd.DataFrame(books)\n",
    "booksDataFrame.head(2)\n"
   ]
  },
  {
   "cell_type": "code",
   "execution_count": 31,
   "metadata": {},
   "outputs": [
    {
     "name": "stdout",
     "output_type": "stream",
     "text": [
      "dict_keys(['bkName', 'bkCode', 'bkGenre', 'bkRating', 'bkYear', 'bkOwner', 'bkReads'])\n",
      "dict_values([['Da Vinci Code', 'Steve Jobs', '3 Body Problem'], [4436, 2345, 6787], ['Investigative', 'Autobiography', 'Fiction'], [4.6, 4.8, 4.3], [2004, 2011, 2024], ['James Langdon', 'Isaac Watson', 'Zack Snyder'], [123343554, 5565343, 3455465656]])\n"
     ]
    }
   ],
   "source": [
    "#get dictionary keys\n",
    "print(books.keys())\n",
    "#get dictionary values\n",
    "print(books.values())"
   ]
  },
  {
   "cell_type": "markdown",
   "metadata": {},
   "source": [
    "## 4.0 Creating Functions\n",
    "Avoid doing boring work all over again. Let's go ahead and create lines of code to do tasks that will continue repeating like adding, changing values etc."
   ]
  },
  {
   "cell_type": "code",
   "execution_count": 32,
   "metadata": {},
   "outputs": [
    {
     "name": "stdout",
     "output_type": "stream",
     "text": [
      "11\n"
     ]
    }
   ],
   "source": [
    "#a function to add numbers\n",
    "def addNums(a,b):\n",
    "    return a+b #you return the sum so the value can be used\n",
    "\n",
    "print(addNums(5,6))"
   ]
  },
  {
   "cell_type": "code",
   "execution_count": 33,
   "metadata": {},
   "outputs": [
    {
     "name": "stdout",
     "output_type": "stream",
     "text": [
      "10\n"
     ]
    }
   ],
   "source": [
    "#not sure about the number of numbers you have let use variable arguments\n",
    "def addManyNums(*numbers):\n",
    "    current_sum = 0\n",
    "    for number in numbers:\n",
    "        current_sum += number\n",
    "    \n",
    "    return current_sum\n",
    "\n",
    "print(addManyNums(4,5,1))"
   ]
  },
  {
   "cell_type": "markdown",
   "metadata": {},
   "source": [
    "# Who is Python Tenary again? \n",
    "\n",
    "<img src=\"./images/monkey.gif\" style=\"width: 120px; height: 100px;\" alt=\"Monkey\">\n"
   ]
  },
  {
   "cell_type": "markdown",
   "metadata": {},
   "source": [
    "In Python, Ternary Operator determines if a condition is true or false and then returns the appropriate value as the result. The ternary operator is useful in cases where we need to assign a value to a variable based on a simple condition, and we want to keep our code more concise — all in just one line of code. Don't worry we've got you 😆"
   ]
  },
  {
   "cell_type": "code",
   "execution_count": 41,
   "metadata": {},
   "outputs": [
    {
     "name": "stdout",
     "output_type": "stream",
     "text": [
      "Johnnie slept outside after a serious beating.\n"
     ]
    }
   ],
   "source": [
    "eatingSugar = True\n",
    "\n",
    "mothersPunishment = \"Johnnie slept outside after a serious beating.\" if eatingSugar else \"Johnnie is a good boy.\"\n",
    "print(mothersPunishment)"
   ]
  },
  {
   "cell_type": "markdown",
   "metadata": {},
   "source": [
    "### Lambda Functions\n",
    "#### Lam whaaaat? \n",
    "\n",
    "\n",
    "<img src=\"./images/cat.gif\" style=\"width: 120px; height: 100px;\" alt=\"Monkey\">\n",
    "\n",
    "In Python, lambda functions are used when we have only one expression to evaluate. Hence using the teranery operator with lambda makes it quite simple and easy. A lambda function is a small anonymous function.A lambda function can take any number of arguments, but can only have one expression."
   ]
  },
  {
   "cell_type": "code",
   "execution_count": 2,
   "metadata": {},
   "outputs": [
    {
     "name": "stdout",
     "output_type": "stream",
     "text": [
      "X is greater\n"
     ]
    }
   ],
   "source": [
    "x = 45\n",
    "y = 10\n",
    "\n",
    "print((lambda:'Y is greater',lambda:'X is greater')[x>y]())"
   ]
  },
  {
   "cell_type": "code",
   "execution_count": 4,
   "metadata": {},
   "outputs": [
    {
     "name": "stdout",
     "output_type": "stream",
     "text": [
      "6\n"
     ]
    }
   ],
   "source": [
    "#add  x and y\n",
    "add_res = lambda x,y : x+y\n",
    "print(add_res(2,4))"
   ]
  },
  {
   "cell_type": "markdown",
   "metadata": {},
   "source": [
    "## Make your loops more professional"
   ]
  },
  {
   "cell_type": "markdown",
   "metadata": {},
   "source": [
    "Example create a new list of doubles from [1,2,3,4,5]"
   ]
  },
  {
   "cell_type": "code",
   "execution_count": 5,
   "metadata": {},
   "outputs": [
    {
     "name": "stdout",
     "output_type": "stream",
     "text": [
      "[2, 4, 6, 8, 10]\n"
     ]
    }
   ],
   "source": [
    "num_list = [1,2,3,4,5]\n",
    "doubled_list = [num*2 for num in num_list]\n",
    "print(doubled_list)"
   ]
  },
  {
   "cell_type": "code",
   "execution_count": null,
   "metadata": {},
   "outputs": [],
   "source": [
    "#create a list that prints a 5 names"
   ]
  },
  {
   "cell_type": "markdown",
   "metadata": {},
   "source": [
    "<img src=\"./images/windows success.webp\" alt=\"\">"
   ]
  },
  {
   "cell_type": "markdown",
   "metadata": {},
   "source": [
    "# Next Week Stayed tuned for String Manipulation, Timing Functions, More Data Type objects and Classes"
   ]
  }
 ],
 "metadata": {
  "kernelspec": {
   "display_name": "Python 3",
   "language": "python",
   "name": "python3"
  },
  "language_info": {
   "codemirror_mode": {
    "name": "ipython",
    "version": 3
   },
   "file_extension": ".py",
   "mimetype": "text/x-python",
   "name": "python",
   "nbconvert_exporter": "python",
   "pygments_lexer": "ipython3",
   "version": "3.11.6"
  }
 },
 "nbformat": 4,
 "nbformat_minor": 2
}
